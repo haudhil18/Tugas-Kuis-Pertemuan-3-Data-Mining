{
  "nbformat": 4,
  "nbformat_minor": 0,
  "metadata": {
    "colab": {
      "name": "Tugas(Kuis)Pertemuan3DataMining.ipynb",
      "provenance": [],
      "collapsed_sections": []
    },
    "kernelspec": {
      "name": "python3",
      "display_name": "Python 3"
    },
    "language_info": {
      "name": "python"
    }
  },
  "cells": [
    {
      "cell_type": "code",
      "metadata": {
        "id": "LvLRoEFSIwsx"
      },
      "source": [
        "import numpy as np\n",
        "import matplotlib.pyplot as plt\n",
        "import pandas as pd"
      ],
      "execution_count": 1,
      "outputs": []
    },
    {
      "cell_type": "code",
      "metadata": {
        "id": "VE1jorLNJ0vp"
      },
      "source": [
        "dataset = pd.read_csv('DataSetKopi.csv')\n",
        "x = dataset.iloc[:, :-1].values\n",
        "y = dataset.iloc[:, -1].values"
      ],
      "execution_count": 2,
      "outputs": []
    },
    {
      "cell_type": "code",
      "metadata": {
        "colab": {
          "base_uri": "https://localhost:8080/"
        },
        "id": "IFcKD41vKQAD",
        "outputId": "2ae65e70-af6b-4b9d-f8b1-4f1a65a90464"
      },
      "source": [
        "print(x)"
      ],
      "execution_count": 3,
      "outputs": [
        {
          "output_type": "stream",
          "text": [
            "[['Expresso' 70.0 35000.0]\n",
            " ['Americano' 30.0 35000.0]\n",
            " ['Macchiato' 30.0 65000.0]\n",
            " ['Cappuchino' 65.0 50000.0]\n",
            " ['Americano' 45.0 45000.0]\n",
            " ['Macchiato' 35.0 nan]\n",
            " ['Cappuchino' 55.0 60000.0]\n",
            " ['Expresso' 0.0 85000.0]\n",
            " ['Americano' 85.0 40000.0]\n",
            " ['Expresso' 80.0 65000.0]\n",
            " ['Macchiato' nan 55000.0]\n",
            " ['Cappuchino' 45.0 40000.0]\n",
            " ['Expresso' 110.0 70000.0]\n",
            " ['Macchiato' 75.0 nan]\n",
            " ['Cappuchino' 85.0 50000.0]\n",
            " ['Americano' 150.0 30000.0]]\n"
          ],
          "name": "stdout"
        }
      ]
    },
    {
      "cell_type": "code",
      "metadata": {
        "colab": {
          "base_uri": "https://localhost:8080/"
        },
        "id": "vyydUY7RKUUr",
        "outputId": "e55d9308-2e1c-4f32-88c2-714f9b6f1a91"
      },
      "source": [
        "print(y)"
      ],
      "execution_count": 4,
      "outputs": [
        {
          "output_type": "stream",
          "text": [
            "['No' 'Yes' 'No' 'No' 'Yes' 'Yes' 'No' 'Yes' 'No' 'Yes' 'No' 'Yes' 'No'\n",
            " 'Yes' 'No' 'Yes']\n"
          ],
          "name": "stdout"
        }
      ]
    },
    {
      "cell_type": "code",
      "metadata": {
        "id": "38CizorGKeZT"
      },
      "source": [
        "from sklearn.model_selection import train_test_split\n",
        "x_train, x_test, y_train, y_test = train_test_split(x, y, test_size = 0.2,  random_state = 0)"
      ],
      "execution_count": 5,
      "outputs": []
    },
    {
      "cell_type": "code",
      "metadata": {
        "id": "dEXhVNDhLLST"
      },
      "source": [
        "from sklearn.impute import SimpleImputer\n",
        "imputer = SimpleImputer(missing_values=np.nan, strategy='mean')\n",
        "imputer.fit(x[:, 1:3])\n",
        "x[:, 1:3] = imputer.transform(x[:, 1:3])"
      ],
      "execution_count": 6,
      "outputs": []
    },
    {
      "cell_type": "code",
      "metadata": {
        "colab": {
          "base_uri": "https://localhost:8080/"
        },
        "id": "3lNSFzF-L73E",
        "outputId": "31472275-1a5a-4686-fcfa-be8c08f852a9"
      },
      "source": [
        "print(x)"
      ],
      "execution_count": 7,
      "outputs": [
        {
          "output_type": "stream",
          "text": [
            "[['Expresso' 70.0 35000.0]\n",
            " ['Americano' 30.0 35000.0]\n",
            " ['Macchiato' 30.0 65000.0]\n",
            " ['Cappuchino' 65.0 50000.0]\n",
            " ['Americano' 45.0 45000.0]\n",
            " ['Macchiato' 35.0 51785.71428571428]\n",
            " ['Cappuchino' 55.0 60000.0]\n",
            " ['Expresso' 0.0 85000.0]\n",
            " ['Americano' 85.0 40000.0]\n",
            " ['Expresso' 80.0 65000.0]\n",
            " ['Macchiato' 64.0 55000.0]\n",
            " ['Cappuchino' 45.0 40000.0]\n",
            " ['Expresso' 110.0 70000.0]\n",
            " ['Macchiato' 75.0 51785.71428571428]\n",
            " ['Cappuchino' 85.0 50000.0]\n",
            " ['Americano' 150.0 30000.0]]\n"
          ],
          "name": "stdout"
        }
      ]
    },
    {
      "cell_type": "code",
      "metadata": {
        "id": "KfUliSIPL_Vv"
      },
      "source": [
        "from sklearn.compose import ColumnTransformer\n",
        "from sklearn.preprocessing import OneHotEncoder\n",
        "ct = ColumnTransformer(transformers=[('encoder', OneHotEncoder(), [0])], remainder='passthrough')\n",
        "x = np.array(ct.fit_transform(x))"
      ],
      "execution_count": 8,
      "outputs": []
    },
    {
      "cell_type": "code",
      "metadata": {
        "id": "ryfS15ScNQuc"
      },
      "source": [
        "from sklearn.preprocessing import LabelEncoder\n",
        "le = LabelEncoder()\n",
        "y = le.fit_transform(y)"
      ],
      "execution_count": 9,
      "outputs": []
    },
    {
      "cell_type": "code",
      "metadata": {
        "colab": {
          "base_uri": "https://localhost:8080/"
        },
        "id": "FlB5WZ0gNjWU",
        "outputId": "c033ea29-443b-4273-ce27-ddbf37d1ba93"
      },
      "source": [
        "print(y)"
      ],
      "execution_count": 10,
      "outputs": [
        {
          "output_type": "stream",
          "text": [
            "[0 1 0 0 1 1 0 1 0 1 0 1 0 1 0 1]\n"
          ],
          "name": "stdout"
        }
      ]
    },
    {
      "cell_type": "code",
      "metadata": {
        "id": "03VDRKpZNmM8"
      },
      "source": [
        "from sklearn.model_selection import train_test_split\n",
        "x_train, x_test, y_train, y_test = train_test_split(x, y, test_size = 0.2, random_state = 1)"
      ],
      "execution_count": 11,
      "outputs": []
    },
    {
      "cell_type": "code",
      "metadata": {
        "colab": {
          "base_uri": "https://localhost:8080/"
        },
        "id": "pDM6ax6XOAYV",
        "outputId": "605af0bc-ad53-4887-a300-0c3191a6e6dd"
      },
      "source": [
        "print(x_train)"
      ],
      "execution_count": 12,
      "outputs": [
        {
          "output_type": "stream",
          "text": [
            "[[0.0 1.0 0.0 0.0 55.0 60000.0]\n",
            " [0.0 0.0 0.0 1.0 64.0 55000.0]\n",
            " [1.0 0.0 0.0 0.0 45.0 45000.0]\n",
            " [1.0 0.0 0.0 0.0 30.0 35000.0]\n",
            " [0.0 1.0 0.0 0.0 85.0 50000.0]\n",
            " [0.0 0.0 1.0 0.0 70.0 35000.0]\n",
            " [1.0 0.0 0.0 0.0 150.0 30000.0]\n",
            " [0.0 0.0 1.0 0.0 80.0 65000.0]\n",
            " [1.0 0.0 0.0 0.0 85.0 40000.0]\n",
            " [0.0 0.0 1.0 0.0 110.0 70000.0]\n",
            " [0.0 1.0 0.0 0.0 45.0 40000.0]\n",
            " [0.0 0.0 0.0 1.0 35.0 51785.71428571428]]\n"
          ],
          "name": "stdout"
        }
      ]
    },
    {
      "cell_type": "code",
      "metadata": {
        "colab": {
          "base_uri": "https://localhost:8080/"
        },
        "id": "Uvxbh0YBOESI",
        "outputId": "5485a4b9-3be1-4bac-933b-e9b10188e852"
      },
      "source": [
        "print(x_test)"
      ],
      "execution_count": 13,
      "outputs": [
        {
          "output_type": "stream",
          "text": [
            "[[0.0 1.0 0.0 0.0 65.0 50000.0]\n",
            " [0.0 0.0 0.0 1.0 75.0 51785.71428571428]\n",
            " [0.0 0.0 1.0 0.0 0.0 85000.0]\n",
            " [0.0 0.0 0.0 1.0 30.0 65000.0]]\n"
          ],
          "name": "stdout"
        }
      ]
    },
    {
      "cell_type": "code",
      "metadata": {
        "colab": {
          "base_uri": "https://localhost:8080/"
        },
        "id": "7tcSqWPGOQgE",
        "outputId": "efa5827c-90b0-448c-8481-70237c2631fe"
      },
      "source": [
        "print(y_train)"
      ],
      "execution_count": 14,
      "outputs": [
        {
          "output_type": "stream",
          "text": [
            "[0 0 1 1 0 0 1 1 0 0 1 1]\n"
          ],
          "name": "stdout"
        }
      ]
    },
    {
      "cell_type": "code",
      "metadata": {
        "colab": {
          "base_uri": "https://localhost:8080/"
        },
        "id": "I5PDYtVzOWUo",
        "outputId": "50a36f5f-b283-4a7d-ca1e-410dff91e55f"
      },
      "source": [
        "print(y_test)"
      ],
      "execution_count": 15,
      "outputs": [
        {
          "output_type": "stream",
          "text": [
            "[0 1 1 0]\n"
          ],
          "name": "stdout"
        }
      ]
    },
    {
      "cell_type": "code",
      "metadata": {
        "id": "2sycB5SqOZjt"
      },
      "source": [
        "from sklearn.preprocessing import StandardScaler\n",
        "sc = StandardScaler()\n",
        "x_train[:, 3:] = sc.fit_transform(x_train[:, 3:])\n",
        "x_test[:, 3:] = sc.transform(x_test[:, 3:])"
      ],
      "execution_count": 16,
      "outputs": []
    },
    {
      "cell_type": "code",
      "metadata": {
        "colab": {
          "base_uri": "https://localhost:8080/"
        },
        "id": "M6c40IyePAfR",
        "outputId": "8ffee074-2177-4b01-a870-7c371844b1fb"
      },
      "source": [
        "print(x_train)"
      ],
      "execution_count": 17,
      "outputs": [
        {
          "output_type": "stream",
          "text": [
            "[[0.0 1.0 0.0 -0.44721359549995787 -0.49365945298427505\n",
            "  0.9790072907519946]\n",
            " [0.0 0.0 0.0 2.2360679774997894 -0.2188387265806581 0.5688496228060217]\n",
            " [1.0 0.0 0.0 -0.44721359549995787 -0.7990158156549605\n",
            "  -0.2514657130859238]\n",
            " [1.0 0.0 0.0 -0.44721359549995787 -1.2570503596609888\n",
            "  -1.0717810489778694]\n",
            " [0.0 1.0 0.0 -0.44721359549995787 0.42240963502778145\n",
            "  0.15869195486004897]\n",
            " [0.0 0.0 1.0 -0.44721359549995787 -0.035624908978246786\n",
            "  -1.0717810489778694]\n",
            " [1.0 0.0 0.0 -0.44721359549995787 2.4072259923872372 -1.481938716923842]\n",
            " [0.0 0.0 1.0 -0.44721359549995787 0.2697314536924387 1.3891649586979673]\n",
            " [1.0 0.0 0.0 -0.44721359549995787 0.42240963502778145\n",
            "  -0.6616233810318966]\n",
            " [0.0 0.0 1.0 -0.44721359549995787 1.1858005417044952 1.79932262664394]\n",
            " [0.0 1.0 0.0 -0.44721359549995787 -0.7990158156549605\n",
            "  -0.6616233810318966]\n",
            " [0.0 0.0 0.0 2.2360679774997894 -1.104372178325646 0.3051768362693247]]\n"
          ],
          "name": "stdout"
        }
      ]
    },
    {
      "cell_type": "code",
      "metadata": {
        "colab": {
          "base_uri": "https://localhost:8080/"
        },
        "id": "jNjE3N1nPEP9",
        "outputId": "05779d1a-bea8-4969-b8b2-73e2a8dcbe74"
      },
      "source": [
        "print(x_test)"
      ],
      "execution_count": 18,
      "outputs": [
        {
          "output_type": "stream",
          "text": [
            "[[0.0 1.0 0.0 -0.44721359549995787 -0.18830309031358955\n",
            "  0.15869195486004897]\n",
            " [0.0 0.0 0.0 2.2360679774997894 0.11705327235709596 0.3051768362693247]\n",
            " [0.0 0.0 1.0 -0.44721359549995787 -2.173119447673045 3.0297956304818583]\n",
            " [0.0 0.0 0.0 2.2360679774997894 -1.2570503596609888 1.3891649586979673]]\n"
          ],
          "name": "stdout"
        }
      ]
    }
  ]
}